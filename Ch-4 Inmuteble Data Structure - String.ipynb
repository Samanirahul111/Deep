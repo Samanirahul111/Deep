{
 "cells": [
  {
   "cell_type": "markdown",
   "metadata": {},
   "source": [
    "# 1) String"
   ]
  },
  {
   "cell_type": "markdown",
   "metadata": {},
   "source": [
    "#### Id()"
   ]
  },
  {
   "cell_type": "code",
   "execution_count": 1,
   "metadata": {},
   "outputs": [
    {
     "name": "stdout",
     "output_type": "stream",
     "text": [
      "1483071185200\n"
     ]
    }
   ],
   "source": [
    "    s= \"Mayank Tala\"\n",
    "    print(id(s))"
   ]
  },
  {
   "cell_type": "markdown",
   "metadata": {},
   "source": [
    "### >Mathmetical opreator "
   ]
  },
  {
   "cell_type": "code",
   "execution_count": 3,
   "metadata": {},
   "outputs": [
    {
     "name": "stdout",
     "output_type": "stream",
     "text": [
      "+ MAYANKTALA\n",
      "* MAYANKMAYANKMAYANK\n",
      "Error Code:\n"
     ]
    },
    {
     "ename": "TypeError",
     "evalue": "can only concatenate str (not \"int\") to str",
     "output_type": "error",
     "traceback": [
      "\u001b[1;31m---------------------------------------------------------------------------\u001b[0m",
      "\u001b[1;31mTypeError\u001b[0m                                 Traceback (most recent call last)",
      "\u001b[1;32m<ipython-input-3-785584b16390>\u001b[0m in \u001b[0;36m<module>\u001b[1;34m\u001b[0m\n\u001b[0;32m      7\u001b[0m \u001b[0mprint\u001b[0m\u001b[1;33m(\u001b[0m\u001b[1;34m\"*\"\u001b[0m\u001b[1;33m,\u001b[0m\u001b[0ms\u001b[0m\u001b[1;33m*\u001b[0m\u001b[0ms2\u001b[0m\u001b[1;33m)\u001b[0m\u001b[1;33m\u001b[0m\u001b[1;33m\u001b[0m\u001b[0m\n\u001b[0;32m      8\u001b[0m \u001b[0mprint\u001b[0m\u001b[1;33m(\u001b[0m\u001b[1;34m\"Error Code:\"\u001b[0m\u001b[1;33m)\u001b[0m\u001b[1;33m\u001b[0m\u001b[1;33m\u001b[0m\u001b[0m\n\u001b[1;32m----> 9\u001b[1;33m \u001b[0mprint\u001b[0m\u001b[1;33m(\u001b[0m\u001b[1;34m\"+\"\u001b[0m\u001b[1;33m,\u001b[0m\u001b[0ms1\u001b[0m\u001b[1;33m+\u001b[0m\u001b[0ms2\u001b[0m\u001b[1;33m)\u001b[0m\u001b[1;33m\u001b[0m\u001b[1;33m\u001b[0m\u001b[0m\n\u001b[0m\u001b[0;32m     10\u001b[0m \u001b[0mprint\u001b[0m\u001b[1;33m(\u001b[0m\u001b[1;34m\"*\"\u001b[0m\u001b[1;33m,\u001b[0m\u001b[0ms\u001b[0m\u001b[1;33m*\u001b[0m\u001b[0ms1\u001b[0m\u001b[1;33m)\u001b[0m\u001b[1;33m\u001b[0m\u001b[1;33m\u001b[0m\u001b[0m\n",
      "\u001b[1;31mTypeError\u001b[0m: can only concatenate str (not \"int\") to str"
     ]
    }
   ],
   "source": [
    "s=\"MAYANK\"\n",
    "s1=\"TALA\"\n",
    "s2=3\n",
    "s3=\"4\"\n",
    "\n",
    "print(\"+\",s+s1)\n",
    "print(\"*\",s*s2)\n",
    "print(\"Error Code:\")\n",
    "print(\"+\",s1+s2)\n",
    "print(\"*\",s*s1)"
   ]
  },
  {
   "cell_type": "markdown",
   "metadata": {},
   "source": [
    "### >Comperition Operator"
   ]
  },
  {
   "cell_type": "code",
   "execution_count": 10,
   "metadata": {},
   "outputs": [
    {
     "name": "stdout",
     "output_type": "stream",
     "text": [
      "== True\n",
      "!= False\n",
      ">  False\n",
      ">= True\n",
      "<  False\n",
      "<= False\n"
     ]
    }
   ],
   "source": [
    "s=\"mayank\"\n",
    "s1=\"Mayank\"\n",
    "s2=\"mayank\"\n",
    "s3=\"Tala\"\n",
    "s4=\"Tal\"\n",
    "print(\"==\",s == s2)\n",
    "print(\"!=\",s != s2)\n",
    "print(\"> \",s1 > s3)\n",
    "print(\">=\",s >= s2)\n",
    "print(\"< \",s3 < s4)\n",
    "print(\"<=\",s2 <= s3)"
   ]
  },
  {
   "cell_type": "markdown",
   "metadata": {},
   "source": [
    "#### Access cheractor of Strig using Index"
   ]
  },
  {
   "cell_type": "code",
   "execution_count": 16,
   "metadata": {},
   "outputs": [
    {
     "ename": "TypeError",
     "evalue": "'str' object does not support item assignment",
     "output_type": "error",
     "traceback": [
      "\u001b[1;31m---------------------------------------------------------------------------\u001b[0m",
      "\u001b[1;31mTypeError\u001b[0m                                 Traceback (most recent call last)",
      "\u001b[1;32m<ipython-input-16-266879b2aca2>\u001b[0m in \u001b[0;36m<module>\u001b[1;34m\u001b[0m\n\u001b[0;32m      1\u001b[0m \u001b[0ms\u001b[0m\u001b[1;33m=\u001b[0m\u001b[1;34m\"Learning python is very easy\"\u001b[0m\u001b[1;33m\u001b[0m\u001b[1;33m\u001b[0m\u001b[0m\n\u001b[1;32m----> 2\u001b[1;33m \u001b[0ms\u001b[0m\u001b[1;33m[\u001b[0m\u001b[1;33m-\u001b[0m\u001b[1;36m15\u001b[0m\u001b[1;33m]\u001b[0m\u001b[1;33m=\u001b[0m\u001b[1;34m\"O\"\u001b[0m\u001b[1;33m\u001b[0m\u001b[1;33m\u001b[0m\u001b[0m\n\u001b[0m\u001b[0;32m      3\u001b[0m \u001b[0mprint\u001b[0m\u001b[1;33m(\u001b[0m\u001b[0ms\u001b[0m\u001b[1;33m)\u001b[0m\u001b[1;33m\u001b[0m\u001b[1;33m\u001b[0m\u001b[0m\n",
      "\u001b[1;31mTypeError\u001b[0m: 'str' object does not support item assignment"
     ]
    }
   ],
   "source": [
    "s=\"Learning python is very easy\"\n",
    "s[-15]=\"O\"\n",
    "print(s)"
   ]
  },
  {
   "cell_type": "code",
   "execution_count": 15,
   "metadata": {},
   "outputs": [
    {
     "data": {
      "text/plain": [
       "'Mayank-Tala'"
      ]
     },
     "execution_count": 15,
     "metadata": {},
     "output_type": "execute_result"
    }
   ],
   "source": [
    "s=(\"Mayank\",\"Tala\")\n",
    "l=\"-\"\n",
    "l.join(s)\n",
    "l."
   ]
  },
  {
   "cell_type": "markdown",
   "metadata": {},
   "source": [
    "#### Important Function Of string"
   ]
  },
  {
   "cell_type": "markdown",
   "metadata": {},
   "source": [
    "##### 1) Remove Space or any cheractor"
   ]
  },
  {
   "cell_type": "code",
   "execution_count": 23,
   "metadata": {
    "scrolled": false
   },
   "outputs": [
    {
     "name": "stdout",
     "output_type": "stream",
     "text": [
      "Mayank  \n",
      "  Mayank\n",
      "Mayank\n",
      "ayank\n",
      "Mayan\n",
      "aaasd\n"
     ]
    }
   ],
   "source": [
    "s=\"  Mayank  \"\n",
    "print(s.lstrip())\n",
    "print(s.rstrip())\n",
    "print(s.strip())\n",
    "s=s.strip()\n",
    "print(s.lstrip(\"M\"))\n",
    "print(s.rstrip(\"k\"))\n",
    "s1=\"mmaaasdmm\"\n",
    "print(s1.strip(\"m\"))"
   ]
  },
  {
   "cell_type": "markdown",
   "metadata": {},
   "source": [
    "##### 2) Changing the Case Of String"
   ]
  },
  {
   "cell_type": "code",
   "execution_count": 30,
   "metadata": {},
   "outputs": [
    {
     "name": "stdout",
     "output_type": "stream",
     "text": [
      "Orignal string is   : mAyAnk tAla\n",
      "Upper case Change   : MAYANK TALA\n",
      "Lower case Change   : mayank tala\n",
      "Title case Change   : Mayank Tala\n",
      "Capital case Change : Mayank tala\n",
      "SwapCase cse Change : MaYaNK TaLA\n"
     ]
    }
   ],
   "source": [
    "s=\"mAyAnk tAla\"\n",
    "print(\"*) Orignal string is   :\",s)\n",
    "print(\"1) Upper case Change   :\",s.upper())\n",
    "print(\"2) Lower case Change   :\",s.lower())\n",
    "print(\"3) Title case Change   :\",s.title())\n",
    "print(\"4) Capital case Change :\",s.capitalize())\n",
    "print(\"5) SwapCase cse Change :\",s.swapcase())"
   ]
  },
  {
   "cell_type": "markdown",
   "metadata": {},
   "source": [
    "##### 3) To check type of Cheractor presient in the String"
   ]
  },
  {
   "cell_type": "code",
   "execution_count": 55,
   "metadata": {},
   "outputs": [
    {
     "name": "stdout",
     "output_type": "stream",
     "text": [
      "1) A-Z , a-z , 0-9 : True\n",
      "2) A-Z , a-z       : False\n",
      "3) 0-9             : False\n",
      "4) Upper Case      : False\n",
      "5) Lower Case      : False\n",
      "6) Title Case      : True\n",
      "7) True\n",
      "8) False\n",
      "9) White Space     : False\n"
     ]
    }
   ],
   "source": [
    "s=\"Mayank4566\"\n",
    "\n",
    "print(\"1) A-Z , a-z , 0-9 :\",s.isalnum())\n",
    "print(\"2) A-Z , a-z       :\",s.isalpha())\n",
    "print(\"3) 0-9             :\",s.isdigit())\n",
    "print(\"4) Upper Case      :\",s.isupper())\n",
    "print(\"5) Lower Case      :\",s.islower())\n",
    "print(\"6) Title Case      :\",s.istitle())\n",
    "print(\"7)\",s.isidentifier())\n",
    "print(\"8)\",s.isnumeric())\n",
    "print(\"9) White Space     :\",s.isspace())"
   ]
  },
  {
   "cell_type": "code",
   "execution_count": 53,
   "metadata": {},
   "outputs": [
    {
     "name": "stdout",
     "output_type": "stream",
     "text": [
      "! \" # $ % & ' ( ) * + , - . / : ; < = > ? @ [ \\ ] ^ _ ` { | } ~\n"
     ]
    }
   ],
   "source": [
    "import string\n",
    "dir(string)\n",
    "strn=string.punctuation\n",
    "l=\" \"\n",
    "new=l.join(strn)\n",
    "print(new)\n",
    "\n",
    "#maketrans"
   ]
  },
  {
   "cell_type": "markdown",
   "metadata": {},
   "source": [
    "##### 4) Find()"
   ]
  },
  {
   "cell_type": "code",
   "execution_count": 11,
   "metadata": {
    "scrolled": true
   },
   "outputs": [
    {
     "name": "stdout",
     "output_type": "stream",
     "text": [
      "th is at index : 13\n"
     ]
    }
   ],
   "source": [
    "s=\"B9 is back with Python\"\n",
    "print(f\"th is at index : {s.find('th')}\")"
   ]
  },
  {
   "cell_type": "code",
   "execution_count": 18,
   "metadata": {},
   "outputs": [
    {
     "name": "stdout",
     "output_type": "stream",
     "text": [
      "7\n"
     ]
    }
   ],
   "source": [
    "## Find between given index \n",
    "\n",
    "s=\"B9 is back with Python\"\n",
    "print(s.find(\"a\",0,15))"
   ]
  },
  {
   "cell_type": "markdown",
   "metadata": {},
   "source": [
    "##### 5) Count function"
   ]
  },
  {
   "cell_type": "code",
   "execution_count": 25,
   "metadata": {
    "scrolled": true
   },
   "outputs": [
    {
     "name": "stdout",
     "output_type": "stream",
     "text": [
      "4\n"
     ]
    }
   ],
   "source": [
    "s=\"Mayank Tala\"\n",
    "print(s.count(\"a\",0,11))"
   ]
  },
  {
   "cell_type": "markdown",
   "metadata": {},
   "source": [
    "##### 6) Replace()"
   ]
  },
  {
   "cell_type": "code",
   "execution_count": 32,
   "metadata": {},
   "outputs": [
    {
     "name": "stdout",
     "output_type": "stream",
     "text": [
      "Mayank Tal@\n"
     ]
    }
   ],
   "source": [
    "s=\"M@y@nk T@l@\"\n",
    "print(s.replace(\"@\",\"a\",3))\n",
    "#lest is count means how many time u want to replace \n",
    "#for now it is 3 it change 3 @ to 3 a"
   ]
  },
  {
   "cell_type": "markdown",
   "metadata": {},
   "source": [
    "##### 7) Split ()"
   ]
  },
  {
   "cell_type": "code",
   "execution_count": 44,
   "metadata": {},
   "outputs": [
    {
     "name": "stdout",
     "output_type": "stream",
     "text": [
      "['Mayank', 'Tala', '17-10-2006']\n"
     ]
    }
   ],
   "source": [
    "# Give and is list type\n",
    "s=\"Mayank-Tala-17-10-2006\"\n",
    "ans=s.split(\"-\",2)\n",
    "print(ans)"
   ]
  },
  {
   "cell_type": "markdown",
   "metadata": {},
   "source": [
    "##### 8) Translate With make trans ()"
   ]
  },
  {
   "cell_type": "code",
   "execution_count": 61,
   "metadata": {},
   "outputs": [
    {
     "name": "stdout",
     "output_type": "stream",
     "text": [
      "{33: None, 34: None, 35: None, 36: None, 37: None, 38: None, 39: None, 40: None, 41: None, 42: None, 43: None, 44: None, 45: None, 46: None, 47: None, 58: None, 59: None, 60: None, 61: None, 62: None, 63: None, 64: None, 91: None, 92: None, 93: None, 94: None, 95: None, 96: None, 123: None, 124: None, 125: None, 126: None}\n"
     ]
    }
   ],
   "source": [
    "#! \" # $ % & ' ( ) * + , - . / : ; < = > ? @ [ \\ ] ^ _ ` { | } ~\n",
    "import string\n",
    "\n",
    "t=str.maketrans('','',string.punctuation)\n",
    "print(t)\n",
    "\n",
    "# print(ord('{')) # 123\n",
    "# print(ord('|')) # 124\n",
    "# print(ord('}')) # 125\n",
    "# print(ord('~')) # 126"
   ]
  },
  {
   "cell_type": "code",
   "execution_count": 2,
   "metadata": {},
   "outputs": [
    {
     "name": "stdout",
     "output_type": "stream",
     "text": [
      "Greks for Greks is ver imp\n"
     ]
    }
   ],
   "source": [
    "import string\n",
    "b=\"Gre@ks f+o@#r Gr_eks i$s ver_ i*m:p\"\n",
    "ans=b.translate(str.maketrans('','',string.punctuation))\n",
    "print(ans)"
   ]
  }
 ],
 "metadata": {
  "kernelspec": {
   "display_name": "Python 3",
   "language": "python",
   "name": "python3"
  },
  "language_info": {
   "codemirror_mode": {
    "name": "ipython",
    "version": 3
   },
   "file_extension": ".py",
   "mimetype": "text/x-python",
   "name": "python",
   "nbconvert_exporter": "python",
   "pygments_lexer": "ipython3",
   "version": "3.8.5"
  }
 },
 "nbformat": 4,
 "nbformat_minor": 4
}
