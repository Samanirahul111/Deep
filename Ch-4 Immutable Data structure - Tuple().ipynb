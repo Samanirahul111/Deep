{
 "cells": [
  {
   "cell_type": "markdown",
   "metadata": {},
   "source": [
    "# Tuple()"
   ]
  },
  {
   "cell_type": "code",
   "execution_count": 8,
   "metadata": {},
   "outputs": [
    {
     "name": "stdout",
     "output_type": "stream",
     "text": [
      "Tuple 1 <class 'tuple'>\n",
      "Tuple 2 <class 'int'>\n"
     ]
    }
   ],
   "source": [
    "t=(10,)\n",
    "print(\"Tuple 1\",type(t))\n",
    "t1=(10)\n",
    "print(\"Tuple 2\",type(t1))"
   ]
  },
  {
   "cell_type": "code",
   "execution_count": 3,
   "metadata": {},
   "outputs": [
    {
     "name": "stdout",
     "output_type": "stream",
     "text": [
      "(60, 90)\n"
     ]
    }
   ],
   "source": [
    "t=(10,40,30,20,60,90)\n",
    "print(t[4:100:1])"
   ]
  },
  {
   "cell_type": "markdown",
   "metadata": {},
   "source": [
    "### 1) Mathemetical Operator"
   ]
  },
  {
   "cell_type": "code",
   "execution_count": 10,
   "metadata": {},
   "outputs": [
    {
     "name": "stdout",
     "output_type": "stream",
     "text": [
      "(10, 20, 30, 40, 50, 60, 70, 80, 90, 100)\n"
     ]
    }
   ],
   "source": [
    "t=(10,20,30,40,50)\n",
    "t1=(60,70,80,90,100)\n",
    "print(t+t1)"
   ]
  },
  {
   "cell_type": "markdown",
   "metadata": {},
   "source": [
    "### 2) Functions"
   ]
  },
  {
   "cell_type": "markdown",
   "metadata": {},
   "source": [
    "##### 1) len()"
   ]
  },
  {
   "cell_type": "code",
   "execution_count": 13,
   "metadata": {},
   "outputs": [
    {
     "name": "stdout",
     "output_type": "stream",
     "text": [
      "5\n"
     ]
    }
   ],
   "source": [
    "t=(10,20,30,40,50)\n",
    "print(len(t))"
   ]
  },
  {
   "cell_type": "markdown",
   "metadata": {},
   "source": [
    "##### 2) Count()"
   ]
  },
  {
   "cell_type": "code",
   "execution_count": 15,
   "metadata": {},
   "outputs": [
    {
     "name": "stdout",
     "output_type": "stream",
     "text": [
      "2\n"
     ]
    }
   ],
   "source": [
    "t=(10,20,10,40,20)\n",
    "print(t.count(10))"
   ]
  },
  {
   "cell_type": "markdown",
   "metadata": {},
   "source": [
    "##### 3) index()"
   ]
  },
  {
   "cell_type": "code",
   "execution_count": 20,
   "metadata": {},
   "outputs": [
    {
     "name": "stdout",
     "output_type": "stream",
     "text": [
      "4\n"
     ]
    }
   ],
   "source": [
    "# aama kiyar pn 0 ans ni aave hamesa Value Error aav se \n",
    "\n",
    "t=(10,20,10,40,50)\n",
    "print(t.index(50,0,5))"
   ]
  },
  {
   "cell_type": "markdown",
   "metadata": {},
   "source": [
    "##### 4) Sorted()"
   ]
  },
  {
   "cell_type": "code",
   "execution_count": 31,
   "metadata": {},
   "outputs": [
    {
     "name": "stdout",
     "output_type": "stream",
     "text": [
      "[90, 60, 40, 30, 20, 10]\n"
     ]
    }
   ],
   "source": [
    "t=(10,40,30,20,90,60)\n",
    "print(sorted(t,reverse=True))"
   ]
  },
  {
   "cell_type": "markdown",
   "metadata": {},
   "source": [
    "##### 5) min() & max()"
   ]
  },
  {
   "cell_type": "code",
   "execution_count": 24,
   "metadata": {},
   "outputs": [
    {
     "name": "stdout",
     "output_type": "stream",
     "text": [
      "Min: 10\n",
      "Max: 90\n"
     ]
    }
   ],
   "source": [
    "t=(10,40,30,20,60,90)\n",
    "print(\"Min:\",min(t))\n",
    "print(\"Max:\",max(t))"
   ]
  },
  {
   "cell_type": "markdown",
   "metadata": {},
   "source": [
    "### 3) Tuple Packaging & unpakaging"
   ]
  },
  {
   "cell_type": "markdown",
   "metadata": {},
   "source": [
    "##### Packaging"
   ]
  },
  {
   "cell_type": "code",
   "execution_count": 32,
   "metadata": {},
   "outputs": [
    {
     "name": "stdout",
     "output_type": "stream",
     "text": [
      "(10, 20, 30)\n"
     ]
    }
   ],
   "source": [
    "a=10\n",
    "b=20\n",
    "c=30\n",
    "t=a,b,c\n",
    "print(t)"
   ]
  },
  {
   "cell_type": "markdown",
   "metadata": {},
   "source": [
    "##### Unpakaging"
   ]
  },
  {
   "cell_type": "code",
   "execution_count": 37,
   "metadata": {
    "scrolled": true
   },
   "outputs": [
    {
     "name": "stdout",
     "output_type": "stream",
     "text": [
      "10 20 30\n"
     ]
    }
   ],
   "source": [
    "t=(10,20,30)\n",
    "# a=t[0]\n",
    "# b=t[1]\n",
    "# c=t[2]\n",
    "\n",
    "# or\n",
    "\n",
    "a,b,c=t\n",
    "\n",
    "\n",
    "print(a,b,c)"
   ]
  },
  {
   "cell_type": "markdown",
   "metadata": {},
   "source": [
    "### 4) Revesed Of Any this to Any thing"
   ]
  },
  {
   "cell_type": "code",
   "execution_count": 48,
   "metadata": {},
   "outputs": [
    {
     "name": "stdout",
     "output_type": "stream",
     "text": [
      "tuple: (90, 60, 40, 30, 40, 10)\n",
      "set  : {40, 10, 90, 60, 30}\n",
      "list : [90, 60, 40, 30, 40, 10]\n"
     ]
    }
   ],
   "source": [
    "t=(10,40,30,40,60,90)\n",
    "print(\"tuple:\",tuple(reversed(t)))\n",
    "print(\"set  :\",set(reversed(t)))\n",
    "print(\"list :\",list(reversed(t)))"
   ]
  },
  {
   "cell_type": "markdown",
   "metadata": {},
   "source": [
    "### 5) Enumerate()"
   ]
  },
  {
   "cell_type": "code",
   "execution_count": 55,
   "metadata": {},
   "outputs": [
    {
     "name": "stdout",
     "output_type": "stream",
     "text": [
      "tuple : ((100, 10), (101, 40), (102, 30), (103, 20), (104, 60), (105, 90))\n",
      "List  : [(50, 10), (51, 40), (52, 30), (53, 20), (54, 60), (55, 90)]\n",
      "Set   : {(13, 20), (10, 10), (15, 90), (11, 40), (14, 60), (12, 30)}\n"
     ]
    }
   ],
   "source": [
    "# imp fore ch 4-5 boze commem in both ch\n",
    "t=(10,40,30,20,60,90)\n",
    "print(\"tuple :\",tuple(enumerate(t,100)))\n",
    "print(\"List  :\",list(enumerate(t,50)))\n",
    "print(\"Set   :\",set(enumerate(t,10)))"
   ]
  },
  {
   "cell_type": "code",
   "execution_count": 1,
   "metadata": {},
   "outputs": [
    {
     "name": "stdout",
     "output_type": "stream",
     "text": [
      "[' ', 'M', 'a', 'a', 'a', 'a', 'k', 'l', 'n', 't', 'y']\n"
     ]
    }
   ],
   "source": [
    "s=\"Mayank tala\"\n",
    "print(sorted(s))"
   ]
  }
 ],
 "metadata": {
  "kernelspec": {
   "display_name": "Python 3",
   "language": "python",
   "name": "python3"
  },
  "language_info": {
   "codemirror_mode": {
    "name": "ipython",
    "version": 3
   },
   "file_extension": ".py",
   "mimetype": "text/x-python",
   "name": "python",
   "nbconvert_exporter": "python",
   "pygments_lexer": "ipython3",
   "version": "3.8.5"
  }
 },
 "nbformat": 4,
 "nbformat_minor": 4
}
