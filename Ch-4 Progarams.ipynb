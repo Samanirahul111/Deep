{
 "cells": [
  {
   "cell_type": "markdown",
   "metadata": {},
   "source": [
    "#### Writhe a python progaram to find out lenght of string without usering len function"
   ]
  },
  {
   "cell_type": "code",
   "execution_count": null,
   "metadata": {},
   "outputs": [],
   "source": [
    "s=str(input(\"Enter any String : \"))\n",
    "count=0\n",
    "s1=s.strip()\n",
    "print(s1)\n",
    "for i in s1:\n",
    "    count+=1\n",
    "if (count <= 0):\n",
    "    print(\"Plz Enter Some Valid string.\")\n",
    "else:\n",
    "    print(\"Lenght of string is :\",count)"
   ]
  },
  {
   "cell_type": "markdown",
   "metadata": {},
   "source": [
    "#### Writhe a python function to check wether the give string is palindrome or not"
   ]
  },
  {
   "cell_type": "code",
   "execution_count": null,
   "metadata": {},
   "outputs": [],
   "source": [
    "def ispalin(s):\n",
    "    flag=0\n",
    "    s1=s[::-1]\n",
    "    if(s1==s):\n",
    "        flag=1\n",
    "    else:\n",
    "        flag=0\n",
    "    return flag\n",
    "\n",
    "s=str(input(\"Enter any String :\"))\n",
    "ans=ispalin(s)\n",
    "\n",
    "if (ans):\n",
    "    print(\"Given string is Palindrom\")\n",
    "else:\n",
    "    print(\"Given string is Not Palindrom\")"
   ]
  },
  {
   "cell_type": "markdown",
   "metadata": {},
   "source": [
    "#### Write a python progaram to check how many Upper case , Lower case letter , digit , Sy and Space also find sum and avg of all digits in give String"
   ]
  },
  {
   "cell_type": "code",
   "execution_count": null,
   "metadata": {},
   "outputs": [],
   "source": [
    "#space 32\n",
    "# Digit 48-57\n",
    "# Upper 65- 90\n",
    "# Lover 97-122\n",
    "\n",
    "s=str(input(\"Enter aby String: \"))\n",
    "u=0\n",
    "l=0\n",
    "d=0\n",
    "sy=0\n",
    "sc=0\n",
    "su=0\n",
    "\n",
    "for i in s:\n",
    "    if i.isupper():\n",
    "        u+=1\n",
    "    elif i.islower():\n",
    "        l+=1\n",
    "    elif i.isdigit():\n",
    "        d+=1\n",
    "        su+=int(i)\n",
    "    elif i.isspace():\n",
    "        sc+=1\n",
    "    else:\n",
    "        sy+=1\n",
    "print(\"Upper :\",u)\n",
    "print(\"lower :\",l)\n",
    "print(\"Digit :\",d)\n",
    "print(\"Sy :\",sy)\n",
    "print(\"Space :\",sc)\n",
    "print(\"Sum od digit :\",su)\n",
    "print(\"Avg of all digit is :\",(su/d))"
   ]
  },
  {
   "cell_type": "markdown",
   "metadata": {},
   "source": [
    "#### Writhe a python progaram to check any charector how many time return at which place and how many times."
   ]
  },
  {
   "cell_type": "code",
   "execution_count": 10,
   "metadata": {},
   "outputs": [
    {
     "name": "stdout",
     "output_type": "stream",
     "text": [
      "Enter any string :abcdbcabcfgcdabc\n",
      "Enter sub string :a\n",
      "0\n",
      "0\n",
      "0\n",
      "0\n",
      "0\n",
      "0\n",
      "0\n",
      "0\n",
      "0\n",
      "0\n",
      "0\n",
      "0\n",
      "0\n",
      "0\n",
      "0\n",
      "0\n",
      "Index are :  [1, 1, 1, 1, 1, 1, 1, 1, 1, 1, 1, 1, 1, 1, 1, 1]\n",
      "Count Of all sub : 16\n"
     ]
    }
   ],
   "source": [
    "#abcdbcabcfgcdabc\n",
    "s=str(input(\"Enter any string :\"))\n",
    "sub=str(input(\"Enter sub string :\"))\n",
    "i_list=list()\n",
    "count_sub=0\n",
    "end=len(s)\n",
    "st=0\n",
    "w_c=len(s)\n",
    "# while(w_c > 0):\n",
    "for i in range(st,end,1):\n",
    "    i_list.append((s.find(sub,st,end))+1)\n",
    "    st=s.find(sub,st,end)\n",
    "    print(st)\n",
    "    count_sub+=1\n",
    "#     w_c -= 1\n",
    "while\n",
    "print(\"Index are : \",i_list)\n",
    "print(\"Count Of all sub :\",count_sub)"
   ]
  },
  {
   "cell_type": "code",
   "execution_count": 11,
   "metadata": {},
   "outputs": [
    {
     "name": "stdout",
     "output_type": "stream",
     "text": [
      "enter the string ahfqewkyudeisdbvfaasd\n",
      "enter the sub string a\n",
      "Index:  0\n",
      "Index:  17\n",
      "Index:  18\n",
      "Total count=  3\n"
     ]
    }
   ],
   "source": [
    "s=input(\"enter the string \")\n",
    "sub=input(\"enter the sub string \")\n",
    "count=0\n",
    "l=len(s)\n",
    "pos=-1\n",
    "flag=False\n",
    "while True:\n",
    "    pos=s.find(sub,pos+1,l)\n",
    "    if pos==-1:\n",
    "        break;\n",
    "    count=count+1\n",
    "    print(\"Index: \",pos)\n",
    "    flag=True\n",
    "if flag==False:\n",
    "    print(\"Not Found\")\n",
    "print(\"Total count= \",count)"
   ]
  },
  {
   "cell_type": "markdown",
   "metadata": {},
   "source": [
    "#### Write a python proagram to String Meddel center and last with new string"
   ]
  },
  {
   "cell_type": "code",
   "execution_count": 18,
   "metadata": {},
   "outputs": [
    {
     "name": "stdout",
     "output_type": "stream",
     "text": [
      "Enter Any StringRavindra\n",
      "Rna\n"
     ]
    }
   ],
   "source": [
    "s=str(input(\"Enter Any String\"))\n",
    "ou=\"\"\n",
    "ou+=s[0]\n",
    "ou+=s[((len(s))//2)]\n",
    "ou+=s[len(s)-1]\n",
    "print(ou)"
   ]
  },
  {
   "cell_type": "markdown",
   "metadata": {},
   "source": [
    "#### Write a python progaram to concet two string"
   ]
  },
  {
   "cell_type": "code",
   "execution_count": 8,
   "metadata": {},
   "outputs": [
    {
     "name": "stdout",
     "output_type": "stream",
     "text": [
      "Enter a string 1: Mayank\n",
      "Enter a srting 2: mayank\n",
      "Mmaayyaannkk\n"
     ]
    }
   ],
   "source": [
    "s=str(input(\"Enter a string 1: \"))\n",
    "s1=str(input(\"Enter a srting 2: \"))\n",
    "out=\"\"\n",
    "s_l=len(s)\n",
    "s1_l=len(s1)\n",
    "if(s_l != s1_l):\n",
    "    print(\"Plz Enter String with same Len\")\n",
    "else:\n",
    "    for i in range(s1_l):\n",
    "        out+=s[i]\n",
    "        out+=s1[i]\n",
    "        \n",
    "print(out)"
   ]
  },
  {
   "cell_type": "markdown",
   "metadata": {},
   "source": [
    "#### write a python progaram "
   ]
  },
  {
   "cell_type": "code",
   "execution_count": 25,
   "metadata": {},
   "outputs": [
    {
     "name": "stdout",
     "output_type": "stream",
     "text": [
      "Enter aby String: a@vgav87c^5&\n",
      "['&', '5', '7', '8', '@', '^', 'a', 'a', 'c', 'g', 'v', 'v']\n",
      "Final Output is :  aacgvv578\n"
     ]
    }
   ],
   "source": [
    "## aapde aama savthi pela list ne darvakhte updet kar vanu pela alfa pachi num ane chhele number\n",
    "\n",
    "\n",
    "s=str(input(\"Enter aby String: \"))\n",
    "final_out=\"\"\n",
    "sy=\"\"\n",
    "li=sorted(s)\n",
    "print(li)\n",
    "for i in li:\n",
    "    if i.isalpha():\n",
    "        final_out+=i\n",
    "\n",
    "for i in li:\n",
    "    if i.isdigit():\n",
    "        final_out+=i\n",
    "     \n",
    "print(\"Final Output is : \",final_out)"
   ]
  },
  {
   "cell_type": "markdown",
   "metadata": {},
   "source": [
    "#### Write a python progaram to check passsword strnth(8-len , 1 upper, 1 lower , $@_ only)"
   ]
  }
 ],
 "metadata": {
  "kernelspec": {
   "display_name": "Python 3",
   "language": "python",
   "name": "python3"
  },
  "language_info": {
   "codemirror_mode": {
    "name": "ipython",
    "version": 3
   },
   "file_extension": ".py",
   "mimetype": "text/x-python",
   "name": "python",
   "nbconvert_exporter": "python",
   "pygments_lexer": "ipython3",
   "version": "3.8.5"
  }
 },
 "nbformat": 4,
 "nbformat_minor": 4
}
